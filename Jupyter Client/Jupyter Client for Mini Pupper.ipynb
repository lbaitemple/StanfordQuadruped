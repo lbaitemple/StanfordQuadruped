{
 "cells": [
  {
   "cell_type": "markdown",
   "id": "b0fbc508-1541-4dd5-9622-f653761220d4",
   "metadata": {
    "tags": []
   },
   "source": [
    "#  Jupyter Client for Mini Pupper FPC APIs\n",
    "**FPC means Flexible Programmable Choreography**, you can design all kinds of movement actions based on these APIs. In general there are 3 levels APIs for you.\n",
    "- Level 1 (for beginners): Simple APIs without input parameters\n",
    "- Level 2 (for makers):    APIs with input parameters\n",
    "- Level 3 (for beyond):    Samples delicately control the foot locations, move speed, and attitudes at each execution time."
   ]
  },
  {
   "cell_type": "markdown",
   "id": "a29c8c74-eaf6-42c3-860d-675da176b0f6",
   "metadata": {
    "tags": []
   },
   "source": [
    "## Preparation: Modules import and IP address setting"
   ]
  },
  {
   "cell_type": "code",
   "execution_count": 9,
   "id": "61a6bee9",
   "metadata": {
    "lines_to_next_cell": 0,
    "tags": []
   },
   "outputs": [],
   "source": [
    "import socket\n",
    "import re\n",
    "from Command_Sender import SocketSender"
   ]
  },
  {
   "cell_type": "code",
   "execution_count": 10,
   "id": "cca0c44e-743c-4c0d-8234-3c37ebde73f1",
   "metadata": {
    "tags": []
   },
   "outputs": [],
   "source": [
    "# Ensure your Mini Pupper robot can connect your WiFi when boot up\n",
    "# You can find Mini Pupper robot IP address on its screen\n",
    "HOST = '192.168.199.218'  # replace with the actual IP address on Pupper's screen"
   ]
  },
  {
   "cell_type": "markdown",
   "id": "acaa67e3-dfd8-4c49-bcf2-dd93aeece011",
   "metadata": {
    "tags": []
   },
   "source": [
    "## Level 1 example for beginners "
   ]
  },
  {
   "cell_type": "markdown",
   "id": "39ce9f36-90e0-4ded-b459-0e8f70e3501f",
   "metadata": {
    "jp-MarkdownHeadingCollapsed": true
   },
   "source": [
    "These APIs enable your mini pupper to do some fixed simple movements such as look up, move left, and move right. The APIs include:\n",
    "- stop()\n",
    "- look_up()\n",
    "- look_down()\n",
    "- look_right()\n",
    "- look_left()\n",
    "- look_upperleft()\n",
    "- look_upperright()\n",
    "- look_rightlower()\n",
    "- look_leftlower()\n",
    "- move_forward()\n",
    "- move_backward()\n",
    "- move_right()\n",
    "- move_left()\n",
    "- move_leftfront()\n",
    "- move_rightfront()\n",
    "- move_leftback()\n",
    "- move_rightback()\n",
    "\n",
    "Please refer to the following simple example."
   ]
  },
  {
   "cell_type": "code",
   "execution_count": 11,
   "id": "1d467119-964a-4f4d-88c8-595e777ef879",
   "metadata": {
    "tags": []
   },
   "outputs": [],
   "source": [
    "# define your action list\n",
    "level1 = [\n",
    "        \"Move.look_right()\",\n",
    "        \"Move.look_upperleft()\",\n",
    "        \"Move.stop()\"\n",
    "        ]"
   ]
  },
  {
   "cell_type": "code",
   "execution_count": 12,
   "id": "90bb8b5e",
   "metadata": {
    "tags": []
   },
   "outputs": [
    {
     "name": "stdout",
     "output_type": "stream",
     "text": [
      "Server response: Successfully added danceList in: createDanceActionListSample.py\n",
      "Server response: Process started\n"
     ]
    }
   ],
   "source": [
    "# run your action list\n",
    "sender = SocketSender(HOST, level1)\n",
    "sender.command_dance()"
   ]
  },
  {
   "cell_type": "markdown",
   "id": "be974b5e-7e00-45a5-ad76-c220e121cd58",
   "metadata": {
    "tags": []
   },
   "source": [
    "### Level 2 example for makers"
   ]
  },
  {
   "cell_type": "markdown",
   "id": "4ccf976e-7aa3-4db5-b1f7-38205c8e82a2",
   "metadata": {},
   "source": [
    "The level 2 APIs are several movements that you can control the scales of them by some input arguments such as the speed and accelerations of gait, angles of rotations, and so on. \n",
    "The APIs include:\n",
    "- body_row(row_deg,  time_uni, time_acc)\n",
    "- gait_uni(v_x, v_y, time_uni, time_acc)\n",
    "- height_move(ht,    time_uni, time_acc)\n",
    "- head_move(pitch_deg, yaw_deg, time_uni, time_acc)\n",
    "- foreleg_lift(leg_index, ht,   time_uni, time_acc)\n",
    "- backleg_lift(leg_index, ht,   time_uni, time_acc)\n",
    "\n",
    "You can see the following example and run it to better understand."
   ]
  },
  {
   "cell_type": "code",
   "execution_count": 13,
   "id": "c922affe-f6a4-4ec1-8629-dec469f58ba9",
   "metadata": {
    "tags": []
   },
   "outputs": [],
   "source": [
    "# define your level 2 action list\n",
    "level2 = [\n",
    "        \"Move.head_move(20, 0, 0.5, 0.5)\",\n",
    "        \"Move.head_move(10, 25, 0, 0.25)\",\n",
    "        \"Move.head_move(10, -25, 0, 0.5)\",\n",
    "        \"Move.stop()\",\n",
    "        \"Move.height_move(0.02, 1, 0.5)\",\n",
    "        \"Move.gait_uni(0.3, 0)\",\n",
    "        \"Move.stop()\",\n",
    "        \"Move.foreleg_lift(leg_index = 'left', ht = 0.03, time_uni = 0.2, time_acc = 0.5)\",\n",
    "        \"Move.foreleg_lift(leg_index = 'right', ht = 0.03, time_uni = 0.2, time_acc = 0.5)\",\n",
    "        \"Move.stop()\"\n",
    "        ]"
   ]
  },
  {
   "cell_type": "markdown",
   "id": "70626117-273b-4ae4-8622-a2f2388be040",
   "metadata": {},
   "source": [
    "Generally there are several arguments to control the movement's scale and 2 arguments to control the movement time, \n",
    "such as in 'head_move()'\n",
    "- the first 2 arguments control the pitch and yaw angles respectively, and\n",
    "- the third argument determines how long pupper will keep the current state, i.e. keep still at a certain pitch and yaw angle,\n",
    "- the last argument defines how long it takes for pupper to transit from the end of the previous movement to this one."
   ]
  },
  {
   "cell_type": "code",
   "execution_count": 15,
   "id": "40066c78-62ce-416d-8e3d-6ebc84a0702d",
   "metadata": {
    "tags": []
   },
   "outputs": [
    {
     "name": "stdout",
     "output_type": "stream",
     "text": [
      "Server response: Current Process is still running, please wait.\n"
     ]
    }
   ],
   "source": [
    "# run your action list\n",
    "sender = SocketSender(HOST, level2)\n",
    "sender.command_dance()"
   ]
  },
  {
   "cell_type": "markdown",
   "id": "032b24fd-6a1e-4e02-ab97-d23f1636780f",
   "metadata": {},
   "source": [
    "### Level 3 example for beyond"
   ]
  },
  {
   "cell_type": "markdown",
   "id": "8d3005df-706c-4c5c-91c9-c2339879c371",
   "metadata": {},
   "source": [
    "Except for the predefined APIs above, you can program your movements to explicitly control each leg's locations, speed, and orientations at different times, enabling much more complicated movements. Here's an example to show you what can be achieved.\n",
    "The APIs include:\n",
    "- body_cycle()\n",
    "- head_ellipse()"
   ]
  },
  {
   "cell_type": "code",
   "execution_count": 18,
   "id": "d65a12dc-c85c-4b2a-aa83-061d59fec272",
   "metadata": {
    "tags": []
   },
   "outputs": [],
   "source": [
    "# define your level 3 action list\n",
    "level3 = [\n",
    "        \"Move.head_ellipse()\",\n",
    "        \"Move.stop()\"\n",
    "        ]"
   ]
  },
  {
   "cell_type": "code",
   "execution_count": 22,
   "id": "c39417cb-eec9-48ae-ace6-c8587430a1f3",
   "metadata": {
    "tags": []
   },
   "outputs": [
    {
     "name": "stdout",
     "output_type": "stream",
     "text": [
      "Server response: Successfully added danceList in: createDanceActionListSample.py\n",
      "Server response: Process started\n"
     ]
    }
   ],
   "source": [
    "# run your action list\n",
    "sender = SocketSender(HOST, level3)\n",
    "sender.command_dance()"
   ]
  },
  {
   "cell_type": "markdown",
   "id": "2eb62c49-da5c-46a2-b005-a6d2bc673d19",
   "metadata": {},
   "source": [
    "The following line can stop the movement when it's running"
   ]
  },
  {
   "cell_type": "code",
   "execution_count": 23,
   "id": "92af3800-50bf-40a5-a819-8b2c1ecef06e",
   "metadata": {},
   "outputs": [
    {
     "name": "stdout",
     "output_type": "stream",
     "text": [
      "Server response: Successfully cleared current process\n"
     ]
    }
   ],
   "source": [
    "sender.command_stop()"
   ]
  },
  {
   "cell_type": "markdown",
   "id": "07e2c65e-02a1-4cab-90cc-b856a9ab1158",
   "metadata": {},
   "source": [
    "## Summary"
   ]
  },
  {
   "cell_type": "markdown",
   "id": "9ef85c6b-1415-4be1-9ecb-a187bbdf9da1",
   "metadata": {},
   "source": [
    "It's convinient to customize Mini Pupper robot movement based on these APIs. They can be run on Mini Pupper v1 and v2 versions."
   ]
  }
 ],
 "metadata": {
  "jupytext": {
   "cell_metadata_filter": "-all",
   "main_language": "python",
   "notebook_metadata_filter": "-all"
  },
  "kernelspec": {
   "display_name": "Python 3 (ipykernel)",
   "language": "python",
   "name": "python3"
  },
  "language_info": {
   "codemirror_mode": {
    "name": "ipython",
    "version": 3
   },
   "file_extension": ".py",
   "mimetype": "text/x-python",
   "name": "python",
   "nbconvert_exporter": "python",
   "pygments_lexer": "ipython3",
   "version": "3.10.5"
  }
 },
 "nbformat": 4,
 "nbformat_minor": 5
}
